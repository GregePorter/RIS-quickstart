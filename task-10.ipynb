{
 "cells": [
  {
   "cell_type": "code",
   "execution_count": null,
   "id": "edd23855-9c5c-45a6-ab0b-3703eedb741b",
   "metadata": {},
   "outputs": [],
   "source": [
    "import time\n",
    "import torch\n",
    "import torch.nn as nn\n",
    "import torch.optim as optim\n",
    "import seaborn as sns\n",
    "import numpy as np\n",
    "import pandas as pd\n",
    "import nfl_data_py as nfl"
   ]
  },
  {
   "cell_type": "code",
   "execution_count": null,
   "id": "6c94b122-5ca0-44de-9cd9-2de809d74515",
   "metadata": {},
   "outputs": [],
   "source": []
  },
  {
   "cell_type": "code",
   "execution_count": null,
   "id": "3fb50da9-74dc-422b-8c58-2363e14878bd",
   "metadata": {},
   "outputs": [],
   "source": []
  },
  {
   "cell_type": "markdown",
   "id": "5d9331f1-378b-45a0-a51f-e770a2e0e084",
   "metadata": {},
   "source": [
    "# Import Data"
   ]
  },
  {
   "cell_type": "code",
   "execution_count": null,
   "id": "44408a04-4c8f-40a5-9b75-dd541ba0d6dc",
   "metadata": {},
   "outputs": [],
   "source": [
    "years = range(2002, 2024)\n",
    "cache_path = '/storage1/fs1/chien-ju.ho/Active/nfl'"
   ]
  },
  {
   "cell_type": "code",
   "execution_count": null,
   "id": "d529fe84-8a3a-4e31-b3be-6972cfa3a677",
   "metadata": {},
   "outputs": [],
   "source": [
    "%%time\n",
    "for year in years:\n",
    "    nfl.cache_pbp([year], downcast=False, alt_path=cache_path)\n",
    "    time.sleep(5)"
   ]
  },
  {
   "cell_type": "code",
   "execution_count": null,
   "id": "7b29ad03-2073-4592-84fc-9af3a7bc6aff",
   "metadata": {},
   "outputs": [],
   "source": [
    "!du -sh $cache_path"
   ]
  },
  {
   "cell_type": "code",
   "execution_count": null,
   "id": "e14235d8-2cc8-4ad3-9aa8-01e0a3169a4d",
   "metadata": {},
   "outputs": [],
   "source": [
    "def process(df):\n",
    "    df = df[columns]\n",
    "    df = df[df.posteam_type.notna() & df.score_differential.notna()].copy()\n",
    "    df['down'] = df.down.astype(str)\n",
    "    df['posteam_type'] = df.posteam_type == 'home'\n",
    "    df['yardline_na'] = df.yardline_100.isna()\n",
    "    df['yardline_100'] = df.yardline_100.fillna(100)\n",
    "    df['result'] = df['result'] > 0\n",
    "    return df"
   ]
  },
  {
   "cell_type": "code",
   "execution_count": null,
   "id": "949946ea-5d1b-4dfc-9418-ed9c43357371",
   "metadata": {},
   "outputs": [],
   "source": [
    "%%time\n",
    "\n",
    "columns = ['posteam_type', 'game_seconds_remaining', 'score_differential', 'yardline_100', 'down', 'ydstogo', 'result', 'drive_ended_with_score']\n",
    "\n",
    "train = nfl.import_pbp_data(range(2002,2022), columns, downcast=False, cache=True, alt_path=cache_path)\n",
    "valid = nfl.import_pbp_data([2022], columns, downcast=False, cache=True, alt_path=cache_path)\n",
    "test = nfl.import_pbp_data([2023], columns, downcast=False, cache=True, alt_path=cache_path)"
   ]
  },
  {
   "cell_type": "code",
   "execution_count": null,
   "id": "00300054-be45-43ab-b5c5-3c66fab15d24",
   "metadata": {},
   "outputs": [],
   "source": []
  },
  {
   "cell_type": "code",
   "execution_count": null,
   "id": "036493d9-3a3c-4cf7-891c-28beaa8aa43b",
   "metadata": {},
   "outputs": [],
   "source": [
    "train = process(train)\n",
    "valid = process(valid)\n",
    "test = process(test)"
   ]
  },
  {
   "cell_type": "code",
   "execution_count": null,
   "id": "0c0838be-7c42-44cf-86e6-9ebc19892ecc",
   "metadata": {},
   "outputs": [],
   "source": []
  },
  {
   "cell_type": "markdown",
   "id": "09ccb9df-fca1-4259-8f2d-1bd50673944f",
   "metadata": {},
   "source": [
    "# Analyze Data"
   ]
  },
  {
   "cell_type": "code",
   "execution_count": null,
   "id": "6c77fde4-dcc7-48fa-9882-acafa76179c0",
   "metadata": {},
   "outputs": [],
   "source": []
  },
  {
   "cell_type": "code",
   "execution_count": null,
   "id": "24a0e0c1-faff-4549-a7b1-cae27b3af9e7",
   "metadata": {},
   "outputs": [],
   "source": [
    "sns.lineplot(train[train.down!='nan'], x='yardline_100', y='drive_ended_with_score', hue='down')"
   ]
  },
  {
   "cell_type": "code",
   "execution_count": null,
   "id": "4bde3669-9a72-440e-a131-360bfd3902a3",
   "metadata": {},
   "outputs": [],
   "source": []
  },
  {
   "cell_type": "markdown",
   "id": "67c30392-60a0-4aea-a20e-da78e5b42e87",
   "metadata": {},
   "source": [
    "# Train Torch Model"
   ]
  },
  {
   "cell_type": "code",
   "execution_count": null,
   "id": "6cc138a0-ecc8-4906-934e-9022720caa6f",
   "metadata": {},
   "outputs": [],
   "source": []
  },
  {
   "cell_type": "code",
   "execution_count": null,
   "id": "ce7479b5-e127-4e18-b9c8-e4fb9d11b247",
   "metadata": {},
   "outputs": [],
   "source": [
    "def torch_process(df):\n",
    "    df = pd.get_dummies(df, columns=['down'])\n",
    "    x = torch.tensor(df.drop(columns=['result', 'drive_ended_with_score']).values.astype(np.float32))\n",
    "    y = torch.tensor(df[['result']].values.astype(np.float32))\n",
    "    return x, y\n",
    "    "
   ]
  },
  {
   "cell_type": "code",
   "execution_count": null,
   "id": "6f7cc024-46d1-4eeb-bec5-66d0738c1372",
   "metadata": {},
   "outputs": [],
   "source": [
    "x_train, y_train = torch_process(train)\n",
    "x_valid, y_valid = torch_process(valid)\n",
    "x_test, y_test = torch_process(test)"
   ]
  },
  {
   "cell_type": "code",
   "execution_count": null,
   "id": "c1e3ed15-bbb7-4fcb-9a31-7ba01aedc66b",
   "metadata": {},
   "outputs": [],
   "source": [
    "class Net(nn.Module):\n",
    "    def __init__(self, input_size, hidden_size):\n",
    "        super(Net, self).__init__()\n",
    "        self.fc1 = nn.Linear(input_size, hidden_size)\n",
    "        self.fc2 = nn.Linear(hidden_size, hidden_size)\n",
    "        self.fc3 = nn.Linear(hidden_size, hidden_size)\n",
    "        self.output = nn.Linear(hidden_size, 1)\n",
    "\n",
    "    def forward(self, x):\n",
    "        x = torch.relu(self.fc1(x))\n",
    "        x = torch.relu(self.fc2(x))\n",
    "        x = torch.relu(self.fc3(x))\n",
    "        x = torch.sigmoid(self.output(x))\n",
    "        return x\n"
   ]
  },
  {
   "cell_type": "code",
   "execution_count": null,
   "id": "3f7ae84e-1ac5-477e-989d-14692cd366d2",
   "metadata": {},
   "outputs": [],
   "source": [
    "# Set hyperparameters\n",
    "input_size = x_train.shape[1]\n",
    "hidden_size = 64\n",
    "learning_rate = 0.001\n",
    "num_epochs = 100"
   ]
  },
  {
   "cell_type": "code",
   "execution_count": null,
   "id": "1be6543e-f9a8-440d-aa09-7bb53015cfc6",
   "metadata": {},
   "outputs": [],
   "source": [
    "# Initialize the model\n",
    "model = Net(input_size, hidden_size)\n",
    "\n",
    "# Define the loss function and optimizer\n",
    "criterion = nn.BCELoss()\n",
    "optimizer = optim.Adam(model.parameters(), lr=learning_rate)\n",
    "\n",
    "# Training loop\n",
    "for epoch in range(num_epochs):\n",
    "    # Forward pass\n",
    "    outputs = model(x_train)\n",
    "    loss = criterion(outputs, y_train)\n",
    "\n",
    "    # Backward pass and optimization\n",
    "    optimizer.zero_grad()\n",
    "    loss.backward()\n",
    "    optimizer.step()\n",
    "\n",
    "    # Print the loss every 10 epochs\n",
    "    if (epoch + 1) % 1 == 0:\n",
    "        with torch.no_grad():\n",
    "            outputs = model(x_valid)\n",
    "            predicted = outputs.round()\n",
    "            accuracy = (predicted == y_valid).float().mean()\n",
    "\n",
    "        print(f\"Epoch [{epoch+1}/{num_epochs}], Loss: {loss.item():.4f}, Accuracy: {accuracy.item():.4f}\")"
   ]
  },
  {
   "cell_type": "code",
   "execution_count": null,
   "id": "a09b1c7f-858e-4786-85d9-bd529251a07f",
   "metadata": {},
   "outputs": [],
   "source": []
  },
  {
   "cell_type": "code",
   "execution_count": null,
   "id": "0e6e056b-eeed-4de9-9f6c-0e82dd4478cc",
   "metadata": {},
   "outputs": [],
   "source": []
  }
 ],
 "metadata": {
  "kernelspec": {
   "display_name": "nfl",
   "language": "python",
   "name": "nfl"
  },
  "language_info": {
   "codemirror_mode": {
    "name": "ipython",
    "version": 3
   },
   "file_extension": ".py",
   "mimetype": "text/x-python",
   "name": "python",
   "nbconvert_exporter": "python",
   "pygments_lexer": "ipython3",
   "version": "3.10.13"
  }
 },
 "nbformat": 4,
 "nbformat_minor": 5
}
