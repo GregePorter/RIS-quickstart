{
 "cells": [
  {
   "cell_type": "code",
   "execution_count": null,
   "id": "f150d178-8c59-45d3-8bd1-d8b50aa83a3b",
   "metadata": {},
   "outputs": [],
   "source": [
    "from functools import lru_cache\n",
    "from pathlib import Path\n",
    "from tqdm.notebook import tqdm"
   ]
  },
  {
   "cell_type": "code",
   "execution_count": null,
   "id": "d9133dfa-edfd-441e-8229-5a78b8b6d8c7",
   "metadata": {},
   "outputs": [],
   "source": [
    "def fibonacci(n):\n",
    "    if n == 0 or n == 1:\n",
    "        return 1\n",
    "    return fibonacci(n-1) + fibonacci(n-2)"
   ]
  },
  {
   "cell_type": "code",
   "execution_count": null,
   "id": "d63bb790-08ac-41bb-9259-2d69d7f25093",
   "metadata": {},
   "outputs": [],
   "source": [
    "output_folder = \"~/RIS-quickstart/output\"\n",
    "# output_folder = \"/storage1/fs1/<faculty-key>/Active/quickstart/output\"\n",
    "\n",
    "\n",
    "Path(output_folder).mkdir(parents=True, exist_ok=True) # Create output folder if it doesn't exist already\n",
    "with open(f'{output_folder}/task-05.txt', 'w') as f:\n",
    "    print('The following output was computed using the Jupyter Notebook task-05.ipynb', file=f, flush=True)\n",
    "    for i in tqdm(range(30)):\n",
    "        result = fibonacci(i)\n",
    "        print(f\"Fibonacci({i}) = {result}\", file=f, flush=True)"
   ]
  },
  {
   "cell_type": "code",
   "execution_count": null,
   "id": "acc51071-a607-4b97-91ec-ff0ea3e66830",
   "metadata": {},
   "outputs": [],
   "source": []
  }
 ],
 "metadata": {
  "kernelspec": {
   "display_name": "Python 3",
   "language": "python",
   "name": "python3"
  },
  "language_info": {
   "codemirror_mode": {
    "name": "ipython",
    "version": 3
   },
   "file_extension": ".py",
   "mimetype": "text/x-python",
   "name": "python",
   "nbconvert_exporter": "python",
   "pygments_lexer": "ipython3",
   "version": "3.8.12"
  }
 },
 "nbformat": 4,
 "nbformat_minor": 5
}
