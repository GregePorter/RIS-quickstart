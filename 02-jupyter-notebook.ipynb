{
 "cells": [
  {
   "cell_type": "code",
   "execution_count": 4,
   "id": "f150d178-8c59-45d3-8bd1-d8b50aa83a3b",
   "metadata": {},
   "outputs": [],
   "source": [
    "from functools import lru_cache\n",
    "from pathlib import Path\n",
    "from tqdm.notebook import tqdm"
   ]
  },
  {
   "cell_type": "code",
   "execution_count": 5,
   "id": "d9133dfa-edfd-441e-8229-5a78b8b6d8c7",
   "metadata": {},
   "outputs": [],
   "source": [
    "def fibonacci(n):\n",
    "    if n == 0 or n == 1:\n",
    "        return 1\n",
    "    return fibonacci(n-1) + fibonacci(n-2)"
   ]
  },
  {
   "cell_type": "code",
   "execution_count": 6,
   "id": "d63bb790-08ac-41bb-9259-2d69d7f25093",
   "metadata": {},
   "outputs": [
    {
     "data": {
      "application/vnd.jupyter.widget-view+json": {
       "model_id": "04798c2de46642fbbbffb968d7f11033",
       "version_major": 2,
       "version_minor": 0
      },
      "text/plain": [
       "  0%|          | 0/30 [00:00<?, ?it/s]"
      ]
     },
     "metadata": {},
     "output_type": "display_data"
    }
   ],
   "source": [
    "Path(\"output\").mkdir(parents=True, exist_ok=True) # Create output folder if it doesn't exist already\n",
    "with open('output/02.txt', 'w') as f:\n",
    "    print('The following output was computed using the Jupyter Notebook 02-jupyter-notebook.ipynb', file=f, flush=True)\n",
    "    for i in tqdm(range(30)):\n",
    "        result = fibonacci(i)\n",
    "        print(f\"Fibonacci({i}) = {result}\", file=f, flush=True)"
   ]
  },
  {
   "cell_type": "code",
   "execution_count": null,
   "id": "51eaf379-c763-4178-bbf5-49d8ee34d9b3",
   "metadata": {},
   "outputs": [],
   "source": []
  }
 ],
 "metadata": {
  "kernelspec": {
   "display_name": "Python 3",
   "language": "python",
   "name": "python3"
  },
  "language_info": {
   "codemirror_mode": {
    "name": "ipython",
    "version": 3
   },
   "file_extension": ".py",
   "mimetype": "text/x-python",
   "name": "python",
   "nbconvert_exporter": "python",
   "pygments_lexer": "ipython3",
   "version": "3.8.12"
  }
 },
 "nbformat": 4,
 "nbformat_minor": 5
}
