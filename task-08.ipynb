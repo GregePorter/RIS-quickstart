{
 "cells": [
  {
   "cell_type": "code",
   "execution_count": 1,
   "id": "e6655c06-2805-4f6d-814d-ed326a643e7a",
   "metadata": {},
   "outputs": [
    {
     "name": "stdout",
     "output_type": "stream",
     "text": [
      "Importing Numpy\n",
      "First 100 Square Numbers:\n",
      "[    1     4     9    16    25    36    49    64    81   100   121   144\n",
      "   169   196   225   256   289   324   361   400   441   484   529   576\n",
      "   625   676   729   784   841   900   961  1024  1089  1156  1225  1296\n",
      "  1369  1444  1521  1600  1681  1764  1849  1936  2025  2116  2209  2304\n",
      "  2401  2500  2601  2704  2809  2916  3025  3136  3249  3364  3481  3600\n",
      "  3721  3844  3969  4096  4225  4356  4489  4624  4761  4900  5041  5184\n",
      "  5329  5476  5625  5776  5929  6084  6241  6400  6561  6724  6889  7056\n",
      "  7225  7396  7569  7744  7921  8100  8281  8464  8649  8836  9025  9216\n",
      "  9409  9604  9801 10000]\n"
     ]
    }
   ],
   "source": [
    "print('Importing Numpy')\n",
    "import numpy as np\n",
    "\n",
    "\n",
    "print('First 100 Square Numbers:')\n",
    "squares = (np.arange(100)+1)**2\n",
    "print(squares)\n"
   ]
  },
  {
   "cell_type": "code",
   "execution_count": 2,
   "id": "9bfaeef3-a131-4058-a7c8-df483cb7e778",
   "metadata": {},
   "outputs": [
    {
     "name": "stdout",
     "output_type": "stream",
     "text": [
      "Importing Chess\n",
      "Starting Chess Position:\n",
      "r n b q k b n r\n",
      "p p p p p p p p\n",
      ". . . . . . . .\n",
      ". . . . . . . .\n",
      ". . . . . . . .\n",
      ". . . . . . . .\n",
      "P P P P P P P P\n",
      "R N B Q K B N R\n",
      "Legal Moves in the Starting Chess Position:\n",
      "['g1h3', 'g1f3', 'b1c3', 'b1a3', 'h2h3', 'g2g3', 'f2f3', 'e2e3', 'd2d3', 'c2c3', 'b2b3', 'a2a3', 'h2h4', 'g2g4', 'f2f4', 'e2e4', 'd2d4', 'c2c4', 'b2b4', 'a2a4']\n"
     ]
    }
   ],
   "source": [
    "print('Importing Chess')\n",
    "import chess\n",
    "\n",
    "print('Starting Chess Position:')\n",
    "board = chess.Board()\n",
    "print(board)\n",
    "moves = [i.uci() for i in board.legal_moves]\n",
    "print('Legal Moves in the Starting Chess Position:')\n",
    "print(moves)\n"
   ]
  },
  {
   "cell_type": "code",
   "execution_count": 3,
   "id": "30cc5546-3326-4354-8fe1-c1e4acade3af",
   "metadata": {},
   "outputs": [
    {
     "name": "stdout",
     "output_type": "stream",
     "text": [
      "Importing Torch\n",
      "Torch GPU Status:\n",
      "Tesla V100-SXM2-32GB\n"
     ]
    }
   ],
   "source": [
    "print('Importing Torch')\n",
    "import torch\n",
    "\n",
    "\n",
    "print('Torch GPU Status:')\n",
    "print(torch.cuda.get_device_name(torch.cuda.current_device()) if torch.cuda.is_available() else \"No GPU\")\n"
   ]
  },
  {
   "cell_type": "code",
   "execution_count": 4,
   "id": "09602ac0-b848-4051-8a62-1daf86f24724",
   "metadata": {},
   "outputs": [
    {
     "name": "stdout",
     "output_type": "stream",
     "text": [
      "Importing Tensorflow\n",
      "Tensorflow GPU Status:\n",
      "[PhysicalDevice(name='/physical_device:GPU:0', device_type='GPU')]\n"
     ]
    }
   ],
   "source": [
    "print('Importing Tensorflow')\n",
    "import tensorflow as tf\n",
    "\n",
    "print('Tensorflow GPU Status:')\n",
    "print(tf.config.list_physical_devices('GPU'))"
   ]
  },
  {
   "cell_type": "code",
   "execution_count": null,
   "id": "3c1ee419-4824-47ed-9290-d8b75edd352e",
   "metadata": {},
   "outputs": [],
   "source": []
  }
 ],
 "metadata": {
  "kernelspec": {
   "display_name": "quickstart-env",
   "language": "python",
   "name": "quickstart-env"
  },
  "language_info": {
   "codemirror_mode": {
    "name": "ipython",
    "version": 3
   },
   "file_extension": ".py",
   "mimetype": "text/x-python",
   "name": "python",
   "nbconvert_exporter": "python",
   "pygments_lexer": "ipython3",
   "version": "3.10.8"
  }
 },
 "nbformat": 4,
 "nbformat_minor": 5
}
