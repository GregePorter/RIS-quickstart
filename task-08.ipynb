{
 "cells": [
  {
   "cell_type": "code",
   "execution_count": null,
   "id": "e6655c06-2805-4f6d-814d-ed326a643e7a",
   "metadata": {},
   "outputs": [],
   "source": [
    "print('Importing Numpy')\n",
    "import numpy as np\n",
    "\n",
    "\n",
    "print('First 100 Square Numbers:')\n",
    "squares = (np.arange(100)+1)**2\n",
    "print(squares)\n"
   ]
  },
  {
   "cell_type": "code",
   "execution_count": null,
   "id": "9bfaeef3-a131-4058-a7c8-df483cb7e778",
   "metadata": {},
   "outputs": [],
   "source": [
    "print('Importing Chess')\n",
    "import chess\n",
    "\n",
    "print('Starting Chess Position:')\n",
    "board = chess.Board()\n",
    "print(board)\n",
    "moves = [i.uci() for i in board.legal_moves]\n",
    "print('Legal Moves in the Starting Chess Position:')\n",
    "print(moves)\n"
   ]
  },
  {
   "cell_type": "code",
   "execution_count": null,
   "id": "30cc5546-3326-4354-8fe1-c1e4acade3af",
   "metadata": {},
   "outputs": [],
   "source": [
    "print('Importing Torch')\n",
    "import torch\n",
    "\n",
    "\n",
    "print('Torch GPU Status:')\n",
    "print(torch.cuda.get_device_name(torch.cuda.current_device()) if torch.cuda.is_available() else \"No GPU\")\n"
   ]
  },
  {
   "cell_type": "code",
   "execution_count": null,
   "id": "09602ac0-b848-4051-8a62-1daf86f24724",
   "metadata": {},
   "outputs": [],
   "source": [
    "print('Importing Tensorflow')\n",
    "import tensorflow as tf\n",
    "\n",
    "print('Tensorflow GPU Status:')\n",
    "print(tf.config.list_physical_devices('GPU'))"
   ]
  },
  {
   "cell_type": "code",
   "execution_count": null,
   "id": "3c1ee419-4824-47ed-9290-d8b75edd352e",
   "metadata": {},
   "outputs": [],
   "source": []
  }
 ],
 "metadata": {
  "kernelspec": {
   "display_name": "quickstart-env",
   "language": "python",
   "name": "quickstart-env"
  },
  "language_info": {
   "codemirror_mode": {
    "name": "ipython",
    "version": 3
   },
   "file_extension": ".py",
   "mimetype": "text/x-python",
   "name": "python",
   "nbconvert_exporter": "python",
   "pygments_lexer": "ipython3",
   "version": "3.10.8"
  }
 },
 "nbformat": 4,
 "nbformat_minor": 5
}
